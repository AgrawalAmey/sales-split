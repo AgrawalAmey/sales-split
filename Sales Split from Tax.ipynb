{
 "cells": [
  {
   "cell_type": "code",
   "execution_count": 1,
   "metadata": {},
   "outputs": [
    {
     "data": {
      "text/html": [
       "<script>requirejs.config({paths: { 'plotly': ['https://cdn.plot.ly/plotly-latest.min']},});if(!window.Plotly) {{require(['plotly'],function(plotly) {window.Plotly=plotly;});}}</script>"
      ],
      "text/vnd.plotly.v1+html": [
       "<script>requirejs.config({paths: { 'plotly': ['https://cdn.plot.ly/plotly-latest.min']},});if(!window.Plotly) {{require(['plotly'],function(plotly) {window.Plotly=plotly;});}}</script>"
      ]
     },
     "metadata": {},
     "output_type": "display_data"
    }
   ],
   "source": [
    "from ipywidgets import interact\n",
    "from itertools import combinations\n",
    "from math import log\n",
    "\n",
    "import numpy as np\n",
    "from plotly.graph_objs import *\n",
    "import plotly.figure_factory as ff\n",
    "from plotly.offline import download_plotlyjs, init_notebook_mode, plot, iplot\n",
    "\n",
    "init_notebook_mode(connected=True)"
   ]
  },
  {
   "cell_type": "code",
   "execution_count": 19,
   "metadata": {},
   "outputs": [],
   "source": [
    "import warnings\n",
    "warnings.filterwarnings('ignore')"
   ]
  },
  {
   "cell_type": "code",
   "execution_count": 2,
   "metadata": {},
   "outputs": [],
   "source": [
    "def get_splits(total_sales, total_tax, sales):\n",
    "    sales_and_tax = np.vstack([sales, (np.asarray([5, 12, 18, 28]) / 100)])\n",
    "    tax_rates_of_unk = sales_and_tax[1, np.isnan(sales)]\n",
    "    sales_of_unk = total_sales - np.sum(sales[~np.isnan(sales)])\n",
    "    tax_of_unk = total_tax - np.sum(np.prod(sales_and_tax[:, ~np.isnan(sales)], axis=0))\n",
    "    alpha = (tax_of_unk - sales_of_unk * tax_rates_of_unk[1]) / (tax_rates_of_unk[0] - tax_rates_of_unk[1])\n",
    "    beta = (tax_of_unk - sales_of_unk * tax_rates_of_unk[0]) / (tax_rates_of_unk[1] - tax_rates_of_unk[0])\n",
    "    sales[np.isnan(sales)] = np.asarray([alpha, beta])\n",
    "    if len(list(filter(lambda x: x, list(sales < 0)))) > 0: \n",
    "        raise ValueError(\"Invalid input values. No solution possible.\")\n",
    "    return sales"
   ]
  },
  {
   "cell_type": "code",
   "execution_count": 3,
   "metadata": {},
   "outputs": [],
   "source": [
    "def get_valid_solutions(total_sales, total_tax, start, interval):\n",
    "    valid_solutions = []\n",
    "    for pos in combinations(list(range(4)), 2):\n",
    "        X = np.linspace(start, total_sales, (total_sales / interval))\n",
    "        Y = np.linspace(start, total_sales, (total_sales / interval))\n",
    "        mesh = np.array(np.meshgrid(X, Y)).T.reshape(-1, 2)\n",
    "        mesh_with_nan = np.full([mesh.shape[0], 4], np.nan)\n",
    "        mesh_with_nan[:, pos] = mesh\n",
    "        for vals in mesh_with_nan:\n",
    "            try:\n",
    "                valid_solutions.append(get_splits(total_sales, total_tax, vals))\n",
    "            except ValueError:\n",
    "                pass\n",
    "    return np.asarray(valid_solutions)"
   ]
  },
  {
   "cell_type": "code",
   "execution_count": 23,
   "metadata": {},
   "outputs": [],
   "source": [
    "def plot_solutions(total_sales, total_tax):\n",
    "    start = interval = 10 ** (int(log(total_sales, 10) - 1))\n",
    "    solutions = get_valid_solutions(total_sales, total_tax, start, interval)\n",
    "    if solutions.size == 0:\n",
    "        print(\"Invalid input values. No solution Possible.\")\n",
    "        return\n",
    "    texts = list(map(lambda x: f\"\"\"@5%: {int(x[0])}</br></br>@12%: {int(x[1])}</br>@18%: {int(x[2])}</br>@28%: {int(x[3])}\"\"\", solutions))\n",
    "    data = [\n",
    "        Scatter3d(\n",
    "            x=solutions[:,0],\n",
    "            y=solutions[:, 1],\n",
    "            z=solutions[:, 2],\n",
    "            mode='markers',\n",
    "            marker=dict(\n",
    "                size=4,\n",
    "                color=solutions[:, 3],\n",
    "                colorscale='Viridis',   # choose a colorscale\n",
    "            ),\n",
    "            text=texts,\n",
    "            hoverinfo = 'text'\n",
    "        )\n",
    "    ]\n",
    "    layout = Layout(\n",
    "        title=f'Possible Solutions for Total Sales {total_sales} and Total Tax {total_tax}',\n",
    "        scene = dict(\n",
    "            xaxis=dict(\n",
    "                title='Sales @5%'\n",
    "            ),\n",
    "            yaxis=dict(\n",
    "                title='Sales @12%'\n",
    "            ),\n",
    "            zaxis=dict(\n",
    "                title='Sales @18%'\n",
    "            )\n",
    "        )\n",
    "    )\n",
    "    fig = Figure(data=data, layout=layout)\n",
    "    iplot(fig)"
   ]
  },
  {
   "cell_type": "code",
   "execution_count": 25,
   "metadata": {},
   "outputs": [
    {
     "data": {
      "application/vnd.jupyter.widget-view+json": {
       "model_id": "bb51f3b6afeb4d7cad21111c8b34ae9d",
       "version_major": 2,
       "version_minor": 0
      },
      "text/plain": [
       "interactive(children=(IntSlider(value=41000, description='total_sales', max=100000, min=1000, step=10000), Int…"
      ]
     },
     "metadata": {},
     "output_type": "display_data"
    },
    {
     "data": {
      "text/plain": [
       "<function __main__.plot_solutions(total_sales, total_tax)>"
      ]
     },
     "execution_count": 25,
     "metadata": {},
     "output_type": "execute_result"
    }
   ],
   "source": [
    "interact(plot_solutions,\n",
    "         total_sales=(1000, 100000, 10000),\n",
    "         total_tax=(50, 18000, 500),\n",
    "         continuous_update=False)"
   ]
  }
 ],
 "metadata": {
  "kernelspec": {
   "display_name": "Python 3",
   "language": "python",
   "name": "python3"
  },
  "language_info": {
   "codemirror_mode": {
    "name": "ipython",
    "version": 3
   },
   "file_extension": ".py",
   "mimetype": "text/x-python",
   "name": "python",
   "nbconvert_exporter": "python",
   "pygments_lexer": "ipython3",
   "version": "3.6.6"
  }
 },
 "nbformat": 4,
 "nbformat_minor": 2
}
